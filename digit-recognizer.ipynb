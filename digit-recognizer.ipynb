{
 "cells": [
  {
   "cell_type": "code",
   "execution_count": 1,
   "id": "d2586f35",
   "metadata": {
    "_cell_guid": "b1076dfc-b9ad-4769-8c92-a6c4dae69d19",
    "_uuid": "8f2839f25d086af736a60e9eeb907d3b93b6e0e5",
    "execution": {
     "iopub.execute_input": "2022-10-17T10:31:24.551156Z",
     "iopub.status.busy": "2022-10-17T10:31:24.550691Z",
     "iopub.status.idle": "2022-10-17T10:31:39.202418Z",
     "shell.execute_reply": "2022-10-17T10:31:39.201087Z"
    },
    "papermill": {
     "duration": 14.660985,
     "end_time": "2022-10-17T10:31:39.205314",
     "exception": false,
     "start_time": "2022-10-17T10:31:24.544329",
     "status": "completed"
    },
    "tags": []
   },
   "outputs": [
    {
     "name": "stdout",
     "output_type": "stream",
     "text": [
      "/kaggle/input/digit-recognizer/sample_submission.csv\n",
      "/kaggle/input/digit-recognizer/train.csv\n",
      "/kaggle/input/digit-recognizer/test.csv\n"
     ]
    },
    {
     "data": {
      "text/html": [
       "<div>\n",
       "<style scoped>\n",
       "    .dataframe tbody tr th:only-of-type {\n",
       "        vertical-align: middle;\n",
       "    }\n",
       "\n",
       "    .dataframe tbody tr th {\n",
       "        vertical-align: top;\n",
       "    }\n",
       "\n",
       "    .dataframe thead th {\n",
       "        text-align: right;\n",
       "    }\n",
       "</style>\n",
       "<table border=\"1\" class=\"dataframe\">\n",
       "  <thead>\n",
       "    <tr style=\"text-align: right;\">\n",
       "      <th></th>\n",
       "      <th>label</th>\n",
       "      <th>pixel0</th>\n",
       "      <th>pixel1</th>\n",
       "      <th>pixel2</th>\n",
       "      <th>pixel3</th>\n",
       "      <th>pixel4</th>\n",
       "      <th>pixel5</th>\n",
       "      <th>pixel6</th>\n",
       "      <th>pixel7</th>\n",
       "      <th>pixel8</th>\n",
       "      <th>...</th>\n",
       "      <th>pixel774</th>\n",
       "      <th>pixel775</th>\n",
       "      <th>pixel776</th>\n",
       "      <th>pixel777</th>\n",
       "      <th>pixel778</th>\n",
       "      <th>pixel779</th>\n",
       "      <th>pixel780</th>\n",
       "      <th>pixel781</th>\n",
       "      <th>pixel782</th>\n",
       "      <th>pixel783</th>\n",
       "    </tr>\n",
       "  </thead>\n",
       "  <tbody>\n",
       "    <tr>\n",
       "      <th>0</th>\n",
       "      <td>1</td>\n",
       "      <td>0</td>\n",
       "      <td>0</td>\n",
       "      <td>0</td>\n",
       "      <td>0</td>\n",
       "      <td>0</td>\n",
       "      <td>0</td>\n",
       "      <td>0</td>\n",
       "      <td>0</td>\n",
       "      <td>0</td>\n",
       "      <td>...</td>\n",
       "      <td>0</td>\n",
       "      <td>0</td>\n",
       "      <td>0</td>\n",
       "      <td>0</td>\n",
       "      <td>0</td>\n",
       "      <td>0</td>\n",
       "      <td>0</td>\n",
       "      <td>0</td>\n",
       "      <td>0</td>\n",
       "      <td>0</td>\n",
       "    </tr>\n",
       "    <tr>\n",
       "      <th>1</th>\n",
       "      <td>0</td>\n",
       "      <td>0</td>\n",
       "      <td>0</td>\n",
       "      <td>0</td>\n",
       "      <td>0</td>\n",
       "      <td>0</td>\n",
       "      <td>0</td>\n",
       "      <td>0</td>\n",
       "      <td>0</td>\n",
       "      <td>0</td>\n",
       "      <td>...</td>\n",
       "      <td>0</td>\n",
       "      <td>0</td>\n",
       "      <td>0</td>\n",
       "      <td>0</td>\n",
       "      <td>0</td>\n",
       "      <td>0</td>\n",
       "      <td>0</td>\n",
       "      <td>0</td>\n",
       "      <td>0</td>\n",
       "      <td>0</td>\n",
       "    </tr>\n",
       "    <tr>\n",
       "      <th>2</th>\n",
       "      <td>1</td>\n",
       "      <td>0</td>\n",
       "      <td>0</td>\n",
       "      <td>0</td>\n",
       "      <td>0</td>\n",
       "      <td>0</td>\n",
       "      <td>0</td>\n",
       "      <td>0</td>\n",
       "      <td>0</td>\n",
       "      <td>0</td>\n",
       "      <td>...</td>\n",
       "      <td>0</td>\n",
       "      <td>0</td>\n",
       "      <td>0</td>\n",
       "      <td>0</td>\n",
       "      <td>0</td>\n",
       "      <td>0</td>\n",
       "      <td>0</td>\n",
       "      <td>0</td>\n",
       "      <td>0</td>\n",
       "      <td>0</td>\n",
       "    </tr>\n",
       "    <tr>\n",
       "      <th>3</th>\n",
       "      <td>4</td>\n",
       "      <td>0</td>\n",
       "      <td>0</td>\n",
       "      <td>0</td>\n",
       "      <td>0</td>\n",
       "      <td>0</td>\n",
       "      <td>0</td>\n",
       "      <td>0</td>\n",
       "      <td>0</td>\n",
       "      <td>0</td>\n",
       "      <td>...</td>\n",
       "      <td>0</td>\n",
       "      <td>0</td>\n",
       "      <td>0</td>\n",
       "      <td>0</td>\n",
       "      <td>0</td>\n",
       "      <td>0</td>\n",
       "      <td>0</td>\n",
       "      <td>0</td>\n",
       "      <td>0</td>\n",
       "      <td>0</td>\n",
       "    </tr>\n",
       "    <tr>\n",
       "      <th>4</th>\n",
       "      <td>0</td>\n",
       "      <td>0</td>\n",
       "      <td>0</td>\n",
       "      <td>0</td>\n",
       "      <td>0</td>\n",
       "      <td>0</td>\n",
       "      <td>0</td>\n",
       "      <td>0</td>\n",
       "      <td>0</td>\n",
       "      <td>0</td>\n",
       "      <td>...</td>\n",
       "      <td>0</td>\n",
       "      <td>0</td>\n",
       "      <td>0</td>\n",
       "      <td>0</td>\n",
       "      <td>0</td>\n",
       "      <td>0</td>\n",
       "      <td>0</td>\n",
       "      <td>0</td>\n",
       "      <td>0</td>\n",
       "      <td>0</td>\n",
       "    </tr>\n",
       "  </tbody>\n",
       "</table>\n",
       "<p>5 rows × 785 columns</p>\n",
       "</div>"
      ],
      "text/plain": [
       "   label  pixel0  pixel1  pixel2  pixel3  pixel4  pixel5  pixel6  pixel7  \\\n",
       "0      1       0       0       0       0       0       0       0       0   \n",
       "1      0       0       0       0       0       0       0       0       0   \n",
       "2      1       0       0       0       0       0       0       0       0   \n",
       "3      4       0       0       0       0       0       0       0       0   \n",
       "4      0       0       0       0       0       0       0       0       0   \n",
       "\n",
       "   pixel8  ...  pixel774  pixel775  pixel776  pixel777  pixel778  pixel779  \\\n",
       "0       0  ...         0         0         0         0         0         0   \n",
       "1       0  ...         0         0         0         0         0         0   \n",
       "2       0  ...         0         0         0         0         0         0   \n",
       "3       0  ...         0         0         0         0         0         0   \n",
       "4       0  ...         0         0         0         0         0         0   \n",
       "\n",
       "   pixel780  pixel781  pixel782  pixel783  \n",
       "0         0         0         0         0  \n",
       "1         0         0         0         0  \n",
       "2         0         0         0         0  \n",
       "3         0         0         0         0  \n",
       "4         0         0         0         0  \n",
       "\n",
       "[5 rows x 785 columns]"
      ]
     },
     "execution_count": 1,
     "metadata": {},
     "output_type": "execute_result"
    }
   ],
   "source": [
    "# This Python 3 environment comes with many helpful analytics libraries installed\n",
    "# It is defined by the kaggle/python Docker image: https://github.com/kaggle/docker-python\n",
    "# For example, here's several helpful packages to load\n",
    "\n",
    "import numpy as np # linear algebra\n",
    "import pandas as pd # data processing, CSV file I/O (e.g. pd.read_csv)\n",
    "\n",
    "# Input data files are available in the read-only \"../input/\" directory\n",
    "# For example, running this (by clicking run or pressing Shift+Enter) will list all files under the input directory\n",
    "\n",
    "import os\n",
    "for dirname, _, filenames in os.walk('/kaggle/input'):\n",
    "    for filename in filenames:\n",
    "        print(os.path.join(dirname, filename))\n",
    "\n",
    "# You can write up to 20GB to the current directory (/kaggle/working/) that gets preserved as output when you create a version using \"Save & Run All\" \n",
    "# You can also write temporary files to /kaggle/temp/, but they won't be saved outside of the current session\n",
    "\n",
    "import tensorflow as tf\n",
    "from tensorflow import keras\n",
    "from keras.callbacks import EarlyStopping\n",
    "from sklearn.model_selection import train_test_split\n",
    "\n",
    "\n",
    "train_data = pd.read_csv('/kaggle/input/digit-recognizer/train.csv')\n",
    "test_data = pd.read_csv('/kaggle/input/digit-recognizer/test.csv')\n",
    "sample_submission = pd.read_csv('/kaggle/input/digit-recognizer/sample_submission.csv')\n",
    "\n",
    "train_data.head()\n"
   ]
  },
  {
   "cell_type": "code",
   "execution_count": 2,
   "id": "fcf48686",
   "metadata": {
    "execution": {
     "iopub.execute_input": "2022-10-17T10:31:39.216030Z",
     "iopub.status.busy": "2022-10-17T10:31:39.215163Z",
     "iopub.status.idle": "2022-10-17T10:31:39.234037Z",
     "shell.execute_reply": "2022-10-17T10:31:39.233235Z"
    },
    "papermill": {
     "duration": 0.026421,
     "end_time": "2022-10-17T10:31:39.236145",
     "exception": false,
     "start_time": "2022-10-17T10:31:39.209724",
     "status": "completed"
    },
    "tags": []
   },
   "outputs": [
    {
     "data": {
      "text/html": [
       "<div>\n",
       "<style scoped>\n",
       "    .dataframe tbody tr th:only-of-type {\n",
       "        vertical-align: middle;\n",
       "    }\n",
       "\n",
       "    .dataframe tbody tr th {\n",
       "        vertical-align: top;\n",
       "    }\n",
       "\n",
       "    .dataframe thead th {\n",
       "        text-align: right;\n",
       "    }\n",
       "</style>\n",
       "<table border=\"1\" class=\"dataframe\">\n",
       "  <thead>\n",
       "    <tr style=\"text-align: right;\">\n",
       "      <th></th>\n",
       "      <th>pixel0</th>\n",
       "      <th>pixel1</th>\n",
       "      <th>pixel2</th>\n",
       "      <th>pixel3</th>\n",
       "      <th>pixel4</th>\n",
       "      <th>pixel5</th>\n",
       "      <th>pixel6</th>\n",
       "      <th>pixel7</th>\n",
       "      <th>pixel8</th>\n",
       "      <th>pixel9</th>\n",
       "      <th>...</th>\n",
       "      <th>pixel774</th>\n",
       "      <th>pixel775</th>\n",
       "      <th>pixel776</th>\n",
       "      <th>pixel777</th>\n",
       "      <th>pixel778</th>\n",
       "      <th>pixel779</th>\n",
       "      <th>pixel780</th>\n",
       "      <th>pixel781</th>\n",
       "      <th>pixel782</th>\n",
       "      <th>pixel783</th>\n",
       "    </tr>\n",
       "  </thead>\n",
       "  <tbody>\n",
       "    <tr>\n",
       "      <th>0</th>\n",
       "      <td>0</td>\n",
       "      <td>0</td>\n",
       "      <td>0</td>\n",
       "      <td>0</td>\n",
       "      <td>0</td>\n",
       "      <td>0</td>\n",
       "      <td>0</td>\n",
       "      <td>0</td>\n",
       "      <td>0</td>\n",
       "      <td>0</td>\n",
       "      <td>...</td>\n",
       "      <td>0</td>\n",
       "      <td>0</td>\n",
       "      <td>0</td>\n",
       "      <td>0</td>\n",
       "      <td>0</td>\n",
       "      <td>0</td>\n",
       "      <td>0</td>\n",
       "      <td>0</td>\n",
       "      <td>0</td>\n",
       "      <td>0</td>\n",
       "    </tr>\n",
       "    <tr>\n",
       "      <th>1</th>\n",
       "      <td>0</td>\n",
       "      <td>0</td>\n",
       "      <td>0</td>\n",
       "      <td>0</td>\n",
       "      <td>0</td>\n",
       "      <td>0</td>\n",
       "      <td>0</td>\n",
       "      <td>0</td>\n",
       "      <td>0</td>\n",
       "      <td>0</td>\n",
       "      <td>...</td>\n",
       "      <td>0</td>\n",
       "      <td>0</td>\n",
       "      <td>0</td>\n",
       "      <td>0</td>\n",
       "      <td>0</td>\n",
       "      <td>0</td>\n",
       "      <td>0</td>\n",
       "      <td>0</td>\n",
       "      <td>0</td>\n",
       "      <td>0</td>\n",
       "    </tr>\n",
       "    <tr>\n",
       "      <th>2</th>\n",
       "      <td>0</td>\n",
       "      <td>0</td>\n",
       "      <td>0</td>\n",
       "      <td>0</td>\n",
       "      <td>0</td>\n",
       "      <td>0</td>\n",
       "      <td>0</td>\n",
       "      <td>0</td>\n",
       "      <td>0</td>\n",
       "      <td>0</td>\n",
       "      <td>...</td>\n",
       "      <td>0</td>\n",
       "      <td>0</td>\n",
       "      <td>0</td>\n",
       "      <td>0</td>\n",
       "      <td>0</td>\n",
       "      <td>0</td>\n",
       "      <td>0</td>\n",
       "      <td>0</td>\n",
       "      <td>0</td>\n",
       "      <td>0</td>\n",
       "    </tr>\n",
       "    <tr>\n",
       "      <th>3</th>\n",
       "      <td>0</td>\n",
       "      <td>0</td>\n",
       "      <td>0</td>\n",
       "      <td>0</td>\n",
       "      <td>0</td>\n",
       "      <td>0</td>\n",
       "      <td>0</td>\n",
       "      <td>0</td>\n",
       "      <td>0</td>\n",
       "      <td>0</td>\n",
       "      <td>...</td>\n",
       "      <td>0</td>\n",
       "      <td>0</td>\n",
       "      <td>0</td>\n",
       "      <td>0</td>\n",
       "      <td>0</td>\n",
       "      <td>0</td>\n",
       "      <td>0</td>\n",
       "      <td>0</td>\n",
       "      <td>0</td>\n",
       "      <td>0</td>\n",
       "    </tr>\n",
       "    <tr>\n",
       "      <th>4</th>\n",
       "      <td>0</td>\n",
       "      <td>0</td>\n",
       "      <td>0</td>\n",
       "      <td>0</td>\n",
       "      <td>0</td>\n",
       "      <td>0</td>\n",
       "      <td>0</td>\n",
       "      <td>0</td>\n",
       "      <td>0</td>\n",
       "      <td>0</td>\n",
       "      <td>...</td>\n",
       "      <td>0</td>\n",
       "      <td>0</td>\n",
       "      <td>0</td>\n",
       "      <td>0</td>\n",
       "      <td>0</td>\n",
       "      <td>0</td>\n",
       "      <td>0</td>\n",
       "      <td>0</td>\n",
       "      <td>0</td>\n",
       "      <td>0</td>\n",
       "    </tr>\n",
       "  </tbody>\n",
       "</table>\n",
       "<p>5 rows × 784 columns</p>\n",
       "</div>"
      ],
      "text/plain": [
       "   pixel0  pixel1  pixel2  pixel3  pixel4  pixel5  pixel6  pixel7  pixel8  \\\n",
       "0       0       0       0       0       0       0       0       0       0   \n",
       "1       0       0       0       0       0       0       0       0       0   \n",
       "2       0       0       0       0       0       0       0       0       0   \n",
       "3       0       0       0       0       0       0       0       0       0   \n",
       "4       0       0       0       0       0       0       0       0       0   \n",
       "\n",
       "   pixel9  ...  pixel774  pixel775  pixel776  pixel777  pixel778  pixel779  \\\n",
       "0       0  ...         0         0         0         0         0         0   \n",
       "1       0  ...         0         0         0         0         0         0   \n",
       "2       0  ...         0         0         0         0         0         0   \n",
       "3       0  ...         0         0         0         0         0         0   \n",
       "4       0  ...         0         0         0         0         0         0   \n",
       "\n",
       "   pixel780  pixel781  pixel782  pixel783  \n",
       "0         0         0         0         0  \n",
       "1         0         0         0         0  \n",
       "2         0         0         0         0  \n",
       "3         0         0         0         0  \n",
       "4         0         0         0         0  \n",
       "\n",
       "[5 rows x 784 columns]"
      ]
     },
     "execution_count": 2,
     "metadata": {},
     "output_type": "execute_result"
    }
   ],
   "source": [
    "test_data.head()"
   ]
  },
  {
   "cell_type": "code",
   "execution_count": 3,
   "id": "321787f6",
   "metadata": {
    "execution": {
     "iopub.execute_input": "2022-10-17T10:31:39.246559Z",
     "iopub.status.busy": "2022-10-17T10:31:39.246131Z",
     "iopub.status.idle": "2022-10-17T10:31:39.254364Z",
     "shell.execute_reply": "2022-10-17T10:31:39.253172Z"
    },
    "papermill": {
     "duration": 0.01654,
     "end_time": "2022-10-17T10:31:39.256911",
     "exception": false,
     "start_time": "2022-10-17T10:31:39.240371",
     "status": "completed"
    },
    "tags": []
   },
   "outputs": [
    {
     "data": {
      "text/plain": [
       "(42000, 785)"
      ]
     },
     "execution_count": 3,
     "metadata": {},
     "output_type": "execute_result"
    }
   ],
   "source": [
    "train_data.shape\n"
   ]
  },
  {
   "cell_type": "code",
   "execution_count": 4,
   "id": "0f03457c",
   "metadata": {
    "execution": {
     "iopub.execute_input": "2022-10-17T10:31:39.267957Z",
     "iopub.status.busy": "2022-10-17T10:31:39.267481Z",
     "iopub.status.idle": "2022-10-17T10:31:39.275279Z",
     "shell.execute_reply": "2022-10-17T10:31:39.273903Z"
    },
    "papermill": {
     "duration": 0.01669,
     "end_time": "2022-10-17T10:31:39.278324",
     "exception": false,
     "start_time": "2022-10-17T10:31:39.261634",
     "status": "completed"
    },
    "tags": []
   },
   "outputs": [
    {
     "data": {
      "text/plain": [
       "(28000, 784)"
      ]
     },
     "execution_count": 4,
     "metadata": {},
     "output_type": "execute_result"
    }
   ],
   "source": [
    "test_data.shape"
   ]
  },
  {
   "cell_type": "code",
   "execution_count": 5,
   "id": "3dfb5299",
   "metadata": {
    "execution": {
     "iopub.execute_input": "2022-10-17T10:31:39.290617Z",
     "iopub.status.busy": "2022-10-17T10:31:39.290009Z",
     "iopub.status.idle": "2022-10-17T10:31:40.253733Z",
     "shell.execute_reply": "2022-10-17T10:31:40.252399Z"
    },
    "papermill": {
     "duration": 0.97337,
     "end_time": "2022-10-17T10:31:40.256474",
     "exception": false,
     "start_time": "2022-10-17T10:31:39.283104",
     "status": "completed"
    },
    "tags": []
   },
   "outputs": [
    {
     "data": {
      "image/png": "[encoded data removed]",
      "text/plain": [
       "<Figure size 1440x1440 with 9 Axes>"
      ]
     },
     "metadata": {
      "needs_background": "light"
     },
     "output_type": "display_data"
    }
   ],
   "source": [
    "import matplotlib.pyplot as plt\n",
    "\n",
    "plt.figure(figsize=(20,20))\n",
    "for i in range(1,10):\n",
    "    q=train_data.iloc[i:i+1,1:].values\n",
    "    plt.subplot(10,10,i)\n",
    "  #Assuming these are square images\n",
    "  #sqrt of 784 is 28\n",
    "    plt.imshow(q.reshape(28,28),cmap=plt.cm.binary)"
   ]
  },
  {
   "cell_type": "code",
   "execution_count": 6,
   "id": "aea2a8f1",
   "metadata": {
    "execution": {
     "iopub.execute_input": "2022-10-17T10:31:40.268412Z",
     "iopub.status.busy": "2022-10-17T10:31:40.267960Z",
     "iopub.status.idle": "2022-10-17T10:31:40.283371Z",
     "shell.execute_reply": "2022-10-17T10:31:40.282336Z"
    },
    "papermill": {
     "duration": 0.024796,
     "end_time": "2022-10-17T10:31:40.286297",
     "exception": false,
     "start_time": "2022-10-17T10:31:40.261501",
     "status": "completed"
    },
    "tags": []
   },
   "outputs": [
    {
     "data": {
      "text/plain": [
       "<bound method NDFrame.describe of        label  pixel0  pixel1  pixel2  pixel3  pixel4  pixel5  pixel6  pixel7  \\\n",
       "0          1       0       0       0       0       0       0       0       0   \n",
       "1          0       0       0       0       0       0       0       0       0   \n",
       "2          1       0       0       0       0       0       0       0       0   \n",
       "3          4       0       0       0       0       0       0       0       0   \n",
       "4          0       0       0       0       0       0       0       0       0   \n",
       "...      ...     ...     ...     ...     ...     ...     ...     ...     ...   \n",
       "41995      0       0       0       0       0       0       0       0       0   \n",
       "41996      1       0       0       0       0       0       0       0       0   \n",
       "41997      7       0       0       0       0       0       0       0       0   \n",
       "41998      6       0       0       0       0       0       0       0       0   \n",
       "41999      9       0       0       0       0       0       0       0       0   \n",
       "\n",
       "       pixel8  ...  pixel774  pixel775  pixel776  pixel777  pixel778  \\\n",
       "0           0  ...         0         0         0         0         0   \n",
       "1           0  ...         0         0         0         0         0   \n",
       "2           0  ...         0         0         0         0         0   \n",
       "3           0  ...         0         0         0         0         0   \n",
       "4           0  ...         0         0         0         0         0   \n",
       "...       ...  ...       ...       ...       ...       ...       ...   \n",
       "41995       0  ...         0         0         0         0         0   \n",
       "41996       0  ...         0         0         0         0         0   \n",
       "41997       0  ...         0         0         0         0         0   \n",
       "41998       0  ...         0         0         0         0         0   \n",
       "41999       0  ...         0         0         0         0         0   \n",
       "\n",
       "       pixel779  pixel780  pixel781  pixel782  pixel783  \n",
       "0             0         0         0         0         0  \n",
       "1             0         0         0         0         0  \n",
       "2             0         0         0         0         0  \n",
       "3             0         0         0         0         0  \n",
       "4             0         0         0         0         0  \n",
       "...         ...       ...       ...       ...       ...  \n",
       "41995         0         0         0         0         0  \n",
       "41996         0         0         0         0         0  \n",
       "41997         0         0         0         0         0  \n",
       "41998         0         0         0         0         0  \n",
       "41999         0         0         0         0         0  \n",
       "\n",
       "[42000 rows x 785 columns]>"
      ]
     },
     "execution_count": 6,
     "metadata": {},
     "output_type": "execute_result"
    }
   ],
   "source": [
    "train_data.describe"
   ]
  },
  {
   "cell_type": "code",
   "execution_count": 7,
   "id": "40730dd8",
   "metadata": {
    "execution": {
     "iopub.execute_input": "2022-10-17T10:31:40.298719Z",
     "iopub.status.busy": "2022-10-17T10:31:40.298305Z",
     "iopub.status.idle": "2022-10-17T10:31:40.312907Z",
     "shell.execute_reply": "2022-10-17T10:31:40.311812Z"
    },
    "papermill": {
     "duration": 0.023756,
     "end_time": "2022-10-17T10:31:40.315472",
     "exception": false,
     "start_time": "2022-10-17T10:31:40.291716",
     "status": "completed"
    },
    "tags": []
   },
   "outputs": [
    {
     "data": {
      "text/plain": [
       "<bound method NDFrame.describe of        pixel0  pixel1  pixel2  pixel3  pixel4  pixel5  pixel6  pixel7  pixel8  \\\n",
       "0           0       0       0       0       0       0       0       0       0   \n",
       "1           0       0       0       0       0       0       0       0       0   \n",
       "2           0       0       0       0       0       0       0       0       0   \n",
       "3           0       0       0       0       0       0       0       0       0   \n",
       "4           0       0       0       0       0       0       0       0       0   \n",
       "...       ...     ...     ...     ...     ...     ...     ...     ...     ...   \n",
       "27995       0       0       0       0       0       0       0       0       0   \n",
       "27996       0       0       0       0       0       0       0       0       0   \n",
       "27997       0       0       0       0       0       0       0       0       0   \n",
       "27998       0       0       0       0       0       0       0       0       0   \n",
       "27999       0       0       0       0       0       0       0       0       0   \n",
       "\n",
       "       pixel9  ...  pixel774  pixel775  pixel776  pixel777  pixel778  \\\n",
       "0           0  ...         0         0         0         0         0   \n",
       "1           0  ...         0         0         0         0         0   \n",
       "2           0  ...         0         0         0         0         0   \n",
       "3           0  ...         0         0         0         0         0   \n",
       "4           0  ...         0         0         0         0         0   \n",
       "...       ...  ...       ...       ...       ...       ...       ...   \n",
       "27995       0  ...         0         0         0         0         0   \n",
       "27996       0  ...         0         0         0         0         0   \n",
       "27997       0  ...         0         0         0         0         0   \n",
       "27998       0  ...         0         0         0         0         0   \n",
       "27999       0  ...         0         0         0         0         0   \n",
       "\n",
       "       pixel779  pixel780  pixel781  pixel782  pixel783  \n",
       "0             0         0         0         0         0  \n",
       "1             0         0         0         0         0  \n",
       "2             0         0         0         0         0  \n",
       "3             0         0         0         0         0  \n",
       "4             0         0         0         0         0  \n",
       "...         ...       ...       ...       ...       ...  \n",
       "27995         0         0         0         0         0  \n",
       "27996         0         0         0         0         0  \n",
       "27997         0         0         0         0         0  \n",
       "27998         0         0         0         0         0  \n",
       "27999         0         0         0         0         0  \n",
       "\n",
       "[28000 rows x 784 columns]>"
      ]
     },
     "execution_count": 7,
     "metadata": {},
     "output_type": "execute_result"
    }
   ],
   "source": [
    "test_data.describe"
   ]
  },
  {
   "cell_type": "code",
   "execution_count": 8,
   "id": "074df83e",
   "metadata": {
    "execution": {
     "iopub.execute_input": "2022-10-17T10:31:40.328347Z",
     "iopub.status.busy": "2022-10-17T10:31:40.327928Z",
     "iopub.status.idle": "2022-10-17T10:31:40.806816Z",
     "shell.execute_reply": "2022-10-17T10:31:40.805569Z"
    },
    "papermill": {
     "duration": 0.488772,
     "end_time": "2022-10-17T10:31:40.809561",
     "exception": false,
     "start_time": "2022-10-17T10:31:40.320789",
     "status": "completed"
    },
    "tags": []
   },
   "outputs": [],
   "source": [
    "train_data = train_data.sample(frac=1)\n",
    "test_data = test_data.sample(frac=1)"
   ]
  },
  {
   "cell_type": "code",
   "execution_count": 9,
   "id": "fd809d96",
   "metadata": {
    "execution": {
     "iopub.execute_input": "2022-10-17T10:31:40.822307Z",
     "iopub.status.busy": "2022-10-17T10:31:40.821193Z",
     "iopub.status.idle": "2022-10-17T10:31:41.136330Z",
     "shell.execute_reply": "2022-10-17T10:31:41.135468Z"
    },
    "papermill": {
     "duration": 0.323813,
     "end_time": "2022-10-17T10:31:41.138664",
     "exception": false,
     "start_time": "2022-10-17T10:31:40.814851",
     "status": "completed"
    },
    "tags": []
   },
   "outputs": [
    {
     "name": "stdout",
     "output_type": "stream",
     "text": [
      "(37800,) (37800, 28, 28, 1) (4200, 28, 28, 1) (4200,) (28000, 28, 28, 1) (28000, 28, 28, 1)\n"
     ]
    }
   ],
   "source": [
    "width, height = 28, 28\n",
    "\n",
    "\n",
    "\n",
    "train_y = train_data.pop('label').values.astype('int32')\n",
    "train_x = train_data.astype('int32').values.reshape(-1, width, height,1)\n",
    "\n",
    "train_x, valid_x, train_y, valid_y = train_test_split(train_x, train_y, test_size=0.1, random_state=1, shuffle=False)\n",
    "test_y = test_data.values.reshape(-1, width, height,1)\n",
    "test_x = test_data.values.reshape(-1, width, height,1)\n",
    "\n",
    "\n",
    "print(train_y.shape, train_x.shape, valid_x.shape, valid_y.shape, test_y.shape, test_x.shape)"
   ]
  },
  {
   "cell_type": "code",
   "execution_count": 10,
   "id": "fcf9a540",
   "metadata": {
    "execution": {
     "iopub.execute_input": "2022-10-17T10:31:41.151174Z",
     "iopub.status.busy": "2022-10-17T10:31:41.150221Z",
     "iopub.status.idle": "2022-10-17T10:46:38.264198Z",
     "shell.execute_reply": "2022-10-17T10:46:38.262972Z"
    },
    "papermill": {
     "duration": 897.123448,
     "end_time": "2022-10-17T10:46:38.267184",
     "exception": false,
     "start_time": "2022-10-17T10:31:41.143736",
     "status": "completed"
    },
    "tags": []
   },
   "outputs": [
    {
     "name": "stderr",
     "output_type": "stream",
     "text": [
      "2022-10-17 10:31:41.650533: I tensorflow/core/common_runtime/process_util.cc:146] Creating new thread pool with default inter op setting: 2. Tune using inter_op_parallelism_threads for best performance.\n",
      "2022-10-17 10:31:41.945062: I tensorflow/compiler/mlir/mlir_graph_optimization_pass.cc:185] None of the MLIR Optimization Passes are enabled (registered 2)\n"
     ]
    },
    {
     "name": "stdout",
     "output_type": "stream",
     "text": [
      "Epoch 1/20\n",
      "1182/1182 [==============================] - 45s 37ms/step - loss: 0.6593 - accuracy: 0.8278 - val_loss: 0.3033 - val_accuracy: 0.9064\n",
      "Epoch 2/20\n",
      "1182/1182 [==============================] - 44s 37ms/step - loss: 0.1583 - accuracy: 0.9516 - val_loss: 0.1945 - val_accuracy: 0.9402\n",
      "Epoch 3/20\n",
      "1182/1182 [==============================] - 43s 37ms/step - loss: 0.1173 - accuracy: 0.9631 - val_loss: 0.1561 - val_accuracy: 0.9519\n",
      "Epoch 4/20\n",
      "1182/1182 [==============================] - 44s 37ms/step - loss: 0.0991 - accuracy: 0.9691 - val_loss: 0.1077 - val_accuracy: 0.9676\n",
      "Epoch 5/20\n",
      "1182/1182 [==============================] - 45s 38ms/step - loss: 0.0827 - accuracy: 0.9745 - val_loss: 0.1178 - val_accuracy: 0.9664\n",
      "Epoch 6/20\n",
      "1182/1182 [==============================] - 44s 37ms/step - loss: 0.0749 - accuracy: 0.9762 - val_loss: 0.0850 - val_accuracy: 0.9717\n",
      "Epoch 7/20\n",
      "1182/1182 [==============================] - 45s 38ms/step - loss: 0.0660 - accuracy: 0.9785 - val_loss: 0.1230 - val_accuracy: 0.9605\n",
      "Epoch 8/20\n",
      "1182/1182 [==============================] - 45s 38ms/step - loss: 0.0535 - accuracy: 0.9825 - val_loss: 0.0923 - val_accuracy: 0.9731\n",
      "Epoch 9/20\n",
      "1182/1182 [==============================] - 45s 38ms/step - loss: 0.0495 - accuracy: 0.9843 - val_loss: 0.0967 - val_accuracy: 0.9714\n",
      "Epoch 10/20\n",
      "1182/1182 [==============================] - 44s 37ms/step - loss: 0.0443 - accuracy: 0.9852 - val_loss: 0.0849 - val_accuracy: 0.9740\n",
      "Epoch 11/20\n",
      "1182/1182 [==============================] - 44s 37ms/step - loss: 0.0401 - accuracy: 0.9872 - val_loss: 0.0937 - val_accuracy: 0.9738\n",
      "Epoch 12/20\n",
      "1182/1182 [==============================] - 45s 38ms/step - loss: 0.0348 - accuracy: 0.9883 - val_loss: 0.0869 - val_accuracy: 0.9774\n",
      "Epoch 13/20\n",
      "1182/1182 [==============================] - 44s 37ms/step - loss: 0.0293 - accuracy: 0.9903 - val_loss: 0.0877 - val_accuracy: 0.9769\n",
      "Epoch 14/20\n",
      "1182/1182 [==============================] - 45s 38ms/step - loss: 0.0281 - accuracy: 0.9904 - val_loss: 0.0828 - val_accuracy: 0.9755\n",
      "Epoch 15/20\n",
      "1182/1182 [==============================] - 44s 37ms/step - loss: 0.0270 - accuracy: 0.9906 - val_loss: 0.1002 - val_accuracy: 0.9743\n",
      "Epoch 16/20\n",
      "1182/1182 [==============================] - 44s 38ms/step - loss: 0.0248 - accuracy: 0.9917 - val_loss: 0.0948 - val_accuracy: 0.9783\n",
      "Epoch 17/20\n",
      "1182/1182 [==============================] - 44s 37ms/step - loss: 0.0180 - accuracy: 0.9939 - val_loss: 0.0838 - val_accuracy: 0.9774\n",
      "Epoch 18/20\n",
      "1182/1182 [==============================] - 44s 37ms/step - loss: 0.0233 - accuracy: 0.9920 - val_loss: 0.0980 - val_accuracy: 0.9781\n",
      "Epoch 19/20\n",
      "1182/1182 [==============================] - 45s 38ms/step - loss: 0.0196 - accuracy: 0.9931 - val_loss: 0.1233 - val_accuracy: 0.9707\n",
      "Epoch 20/20\n",
      "1182/1182 [==============================] - 44s 37ms/step - loss: 0.0167 - accuracy: 0.9943 - val_loss: 0.0995 - val_accuracy: 0.9783\n"
     ]
    },
    {
     "data": {
      "image/png": "[encoded data removed]",
      "text/plain": [
       "<Figure size 432x288 with 2 Axes>"
      ]
     },
     "metadata": {
      "needs_background": "light"
     },
     "output_type": "display_data"
    }
   ],
   "source": [
    "# model create\n",
    "inputs = tf.keras.Input(shape=(train_x.shape[1:]))\n",
    "x = tf.keras.layers.Conv2D(filters=56, kernel_size=(3,3), strides=1, padding='same', activation='selu')(inputs)\n",
    "x = tf.keras.layers.MaxPooling2D(pool_size=(2,2), padding='same', strides=None)(x)\n",
    "x = tf.keras.layers.Conv2D(filters=112, kernel_size=(3,3), strides=1, padding='same', activation='selu')(x)\n",
    "x = tf.keras.layers.MaxPooling2D(pool_size=(2,2), padding='same', strides=None)(x)\n",
    "x = tf.keras.layers.GlobalAveragePooling2D()(x)\n",
    "outputs = tf.keras.layers.Dense(10, activation='softmax')(x)\n",
    "\n",
    "\n",
    "model = tf.keras.Model(inputs=inputs, outputs=outputs)\n",
    "\n",
    "model.compile(optimizer=tf.keras.optimizers.Adam(learning_rate=1e-3),\n",
    "              loss=tf.keras.losses.SparseCategoricalCrossentropy(),\n",
    "              metrics=['accuracy'])\n",
    "\n",
    "es = EarlyStopping(monitor = 'valid_loss', min_delta = 0.001, patience = 3, verbose=1, mode = 'auto', restore_best_weights = True)\n",
    "\n",
    "hist = model.fit(train_x,train_y,epochs=20, callbacks=[es], validation_data=(valid_x, valid_y))\n",
    "\n",
    "\n",
    "\n",
    "\n",
    "%matplotlib inline\n",
    "import matplotlib.pyplot as plt\n",
    "\n",
    "fig, loss_ax = plt.subplots()\n",
    "acc_ax = loss_ax.twinx()\n",
    "\n",
    "loss_ax.plot(hist.history['loss'], 'y', label = 'train loss')\n",
    "loss_ax.plot(hist.history['val_loss'], 'r', label = 'val loss')\n",
    "acc_ax.plot(hist.history['accuracy'], 'b', label = 'train accuracy')\n",
    "acc_ax.plot(hist.history['val_accuracy'], 'g', label = 'val accuracy')\n",
    "\n",
    "loss_ax.set_xlabel('epoch')\n",
    "loss_ax.set_ylabel('loss')\n",
    "acc_ax.set_xlabel('accuracy')\n",
    "\n",
    "loss_ax.legend(loc = 'upper left')\n",
    "acc_ax.legend(loc = 'lower left')\n",
    "\n",
    "plt.show()\n",
    "\n",
    "##test\n",
    "\n",
    "result_y = model.predict(test_x)\n",
    "\n",
    "classes = np.argmax(result_y,axis = 1) \n",
    "\n",
    "sample_submission['Label'] = classes\n",
    "\n",
    "sample_submission.to_csv('submission.csv',index=False)"
   ]
  }
 ],
 "metadata": {
  "kernelspec": {
   "display_name": "Python 3",
   "language": "python",
   "name": "python3"
  },
  "language_info": {
   "codemirror_mode": {
    "name": "ipython",
    "version": 3
   },
   "file_extension": ".py",
   "mimetype": "text/x-python",
   "name": "python",
   "nbconvert_exporter": "python",
   "pygments_lexer": "ipython3",
   "version": "3.7.12"
  },
  "papermill": {
   "default_parameters": {},
   "duration": 927.262408,
   "end_time": "2022-10-17T10:46:41.702918",
   "environment_variables": {},
   "exception": null,
   "input_path": "__notebook__.ipynb",
   "output_path": "__notebook__.ipynb",
   "parameters": {},
   "start_time": "2022-10-17T10:31:14.440510",
   "version": "2.3.4"
  }
 },
 "nbformat": 4,
 "nbformat_minor": 5
}
