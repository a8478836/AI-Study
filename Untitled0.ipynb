{
  "nbformat": 4,
  "nbformat_minor": 0,
  "metadata": {
    "colab": {
      "provenance": [],
      "authorship_tag": "ABX9TyMOPXCnkTzboepy9D6xP4go",
      "include_colab_link": true
    },
    "kernelspec": {
      "name": "python3",
      "display_name": "Python 3"
    },
    "language_info": {
      "name": "python"
    }
  },
  "cells": [
    {
      "cell_type": "markdown",
      "metadata": {
        "id": "view-in-github",
        "colab_type": "text"
      },
      "source": [
        "<a href=\"https://colab.research.google.com/github/a8478836/AI-Study/blob/master/Untitled0.ipynb\" target=\"_parent\"><img src=\"https://colab.research.google.com/assets/colab-badge.svg\" alt=\"Open In Colab\"/></a>"
      ]
    },
    {
      "cell_type": "code",
      "execution_count": 31,
      "metadata": {
        "colab": {
          "base_uri": "https://localhost:8080/"
        },
        "id": "au2IgW1HElnj",
        "outputId": "c7c8d611-6b77-48b4-cb85-a5b35185c7de"
      },
      "outputs": [
        {
          "output_type": "stream",
          "name": "stdout",
          "text": [
            "tf.Tensor(\n",
            "[[0. 1. 0. 0. 0. 0. 0.]\n",
            " [0. 0. 0. 0. 0. 1. 0.]\n",
            " [0. 0. 0. 1. 0. 0. 0.]\n",
            " [0. 0. 1. 0. 0. 0. 0.]\n",
            " [0. 0. 0. 0. 1. 0. 0.]\n",
            " [0. 0. 0. 0. 0. 0. 1.]], shape=(6, 7), dtype=float32)\n"
          ]
        }
      ],
      "source": [
        "import numpy as np\n",
        "import tensorflow as tf\n",
        "\n",
        "vocab_size = 9\n",
        "embedding_dim = 1\n",
        "max_features = 9\n",
        "max_len = 6\n",
        "\n",
        "\"\"\"\n",
        "_____\n",
        "\n",
        "\"\"\"\n",
        "def embeddings():\n",
        "  # number_chips = ['0','1','2']\n",
        "  # under_chip = ['null','r','g','b']\n",
        "  # under_flip = ['true', 'false']\n",
        "  # upper_chip = ['null','r','g','b']\n",
        "  # upper_flip = ['true', 'false']\n",
        "\n",
        "  chips = tf.constant([0,1,2])\n",
        "  chip = ['null','r','g','b']\n",
        "  flip = ['true', 'false']\n",
        "\n",
        "  words = ['true', 'false', 'null','r','g','b']\n",
        "  vec = tf.keras.layers.TextVectorization(max_tokens=max_features, output_mode='count')\n",
        "  vec.adapt(words)\n",
        "  \n",
        "  result = vec(words)\n",
        "  \n",
        "  \n",
        "\n",
        "  print(result)\n",
        "\n",
        "embeddings()"
      ]
    }
  ]
}