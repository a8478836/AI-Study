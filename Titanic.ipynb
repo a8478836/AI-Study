{
 "cells": [
  {
   "cell_type": "code",
   "execution_count": 1,
   "id": "ddf56e24",
   "metadata": {
    "_cell_guid": "b1076dfc-b9ad-4769-8c92-a6c4dae69d19",
    "_uuid": "8f2839f25d086af736a60e9eeb907d3b93b6e0e5",
    "execution": {
     "iopub.execute_input": "2022-10-27T09:48:55.449835Z",
     "iopub.status.busy": "2022-10-27T09:48:55.449441Z",
     "iopub.status.idle": "2022-10-27T09:48:55.460782Z",
     "shell.execute_reply": "2022-10-27T09:48:55.459918Z"
    },
    "papermill": {
     "duration": 0.024465,
     "end_time": "2022-10-27T09:48:55.463201",
     "exception": false,
     "start_time": "2022-10-27T09:48:55.438736",
     "status": "completed"
    },
    "tags": []
   },
   "outputs": [
    {
     "name": "stdout",
     "output_type": "stream",
     "text": [
      "/kaggle/input/titanic/train.csv\n",
      "/kaggle/input/titanic/test.csv\n",
      "/kaggle/input/titanic/gender_submission.csv\n"
     ]
    }
   ],
   "source": [
    "# This Python 3 environment comes with many helpful analytics libraries installed\n",
    "# It is defined by the kaggle/python Docker image: https://github.com/kaggle/docker-python\n",
    "# For example, here's several helpful packages to load\n",
    "\n",
    "import numpy as np # linear algebra\n",
    "import pandas as pd # data processing, CSV file I/O (e.g. pd.read_csv)\n",
    "\n",
    "# Input data files are available in the read-only \"../input/\" directory\n",
    "# For example, running this (by clicking run or pressing Shift+Enter) will list all files under the input directory\n",
    "\n",
    "import os\n",
    "for dirname, _, filenames in os.walk('/kaggle/input'):\n",
    "    for filename in filenames:\n",
    "        print(os.path.join(dirname, filename))\n",
    "\n",
    "# You can write up to 20GB to the current directory (/kaggle/working/) that gets preserved as output when you create a version using \"Save & Run All\" \n",
    "# You can also write temporary files to /kaggle/temp/, but they won't be saved outside of the current session"
   ]
  },
  {
   "cell_type": "code",
   "execution_count": 2,
   "id": "78db79fc",
   "metadata": {
    "execution": {
     "iopub.execute_input": "2022-10-27T09:48:55.482275Z",
     "iopub.status.busy": "2022-10-27T09:48:55.481905Z",
     "iopub.status.idle": "2022-10-27T09:49:01.984513Z",
     "shell.execute_reply": "2022-10-27T09:49:01.983776Z"
    },
    "papermill": {
     "duration": 6.514687,
     "end_time": "2022-10-27T09:49:01.986948",
     "exception": false,
     "start_time": "2022-10-27T09:48:55.472261",
     "status": "completed"
    },
    "tags": []
   },
   "outputs": [],
   "source": [
    "import tensorflow as tf\n",
    "from tensorflow import keras\n",
    "from tensorflow.keras.layers import Dense, Input, Conv1D, GlobalAveragePooling1D\n",
    "\n",
    "from sklearn.model_selection import train_test_split\n",
    "from sklearn.preprocessing import StandardScaler, MinMaxScaler, RobustScaler\n",
    "\n",
    "import seaborn as sb"
   ]
  },
  {
   "cell_type": "code",
   "execution_count": 3,
   "id": "8be9a882",
   "metadata": {
    "execution": {
     "iopub.execute_input": "2022-10-27T09:49:02.005767Z",
     "iopub.status.busy": "2022-10-27T09:49:02.004918Z",
     "iopub.status.idle": "2022-10-27T09:49:02.046874Z",
     "shell.execute_reply": "2022-10-27T09:49:02.045874Z"
    },
    "papermill": {
     "duration": 0.053797,
     "end_time": "2022-10-27T09:49:02.049237",
     "exception": false,
     "start_time": "2022-10-27T09:49:01.995440",
     "status": "completed"
    },
    "tags": []
   },
   "outputs": [
    {
     "data": {
      "text/plain": [
       "'\\npassengerId index 승객 번호\\nname categorical string 이름\\nsurvival\\t label 생존 여부\\npclass\\tcategorical 경제적 위치? 1이 높은것 ordinal 아닌가?\\nsex\\tcategorical 성별\\nAge\\tdiscrete 나이\\nsibsp\\tdiscrete 형제 자매 남편/부인의 수\\nparch\\tdiscrete 자식 \\nticket\\tcategorical 이지만 string 티켓 번호\\nfare\\tcontinuous 요금\\ncabin\\tcategorical 이지만 string 캐비넷 번호\\nembarked categorical 승선지\\n\\n애매하다고 생각하는 feature의 경우 그래프를 그려서 확인해보는 것이 좋음\\n성별, pclass, 나이, sibasp, parch, fare의 경우 어느정도 생존성과 관련이 있다고 생각할 수 있음\\nname, ticket, cabin, embarked는 확인해보아야함.\\n\\n\\n'"
      ]
     },
     "execution_count": 3,
     "metadata": {},
     "output_type": "execute_result"
    }
   ],
   "source": [
    "train = pd.read_csv('/kaggle/input/titanic/train.csv')\n",
    "test = pd.read_csv('/kaggle/input/titanic/test.csv')\n",
    "sub = pd.read_csv('/kaggle/input/titanic/gender_submission.csv')\n",
    "\n",
    "train.head\n",
    "\n",
    "#survival 이 label\n",
    "# NaN 처리 해야\n",
    "\"\"\"\n",
    "passengerId index 승객 번호\n",
    "name categorical string 이름\n",
    "survival\t label 생존 여부\n",
    "pclass\tcategorical 경제적 위치? 1이 높은것 ordinal 아닌가?\n",
    "sex\tcategorical 성별\n",
    "Age\tdiscrete 나이\n",
    "sibsp\tdiscrete 형제 자매 남편/부인의 수\n",
    "parch\tdiscrete 자식 \n",
    "ticket\tcategorical 이지만 string 티켓 번호\n",
    "fare\tcontinuous 요금\n",
    "cabin\tcategorical 이지만 string 캐비넷 번호\n",
    "embarked categorical 승선지\n",
    "\n",
    "애매하다고 생각하는 feature의 경우 그래프를 그려서 확인해보는 것이 좋음\n",
    "성별, pclass, 나이, sibasp, parch, fare의 경우 어느정도 생존성과 관련이 있다고 생각할 수 있음\n",
    "name, ticket, cabin, embarked는 확인해보아야함.\n",
    "\n",
    "\n",
    "\"\"\""
   ]
  },
  {
   "cell_type": "code",
   "execution_count": 4,
   "id": "b7cdf614",
   "metadata": {
    "execution": {
     "iopub.execute_input": "2022-10-27T09:49:02.068825Z",
     "iopub.status.busy": "2022-10-27T09:49:02.068502Z",
     "iopub.status.idle": "2022-10-27T09:49:02.075227Z",
     "shell.execute_reply": "2022-10-27T09:49:02.074145Z"
    },
    "papermill": {
     "duration": 0.017936,
     "end_time": "2022-10-27T09:49:02.077058",
     "exception": false,
     "start_time": "2022-10-27T09:49:02.059122",
     "status": "completed"
    },
    "tags": []
   },
   "outputs": [
    {
     "data": {
      "text/plain": [
       "Index(['PassengerId', 'Survived', 'Pclass', 'Name', 'Sex', 'Age', 'SibSp',\n",
       "       'Parch', 'Ticket', 'Fare', 'Cabin', 'Embarked'],\n",
       "      dtype='object')"
      ]
     },
     "execution_count": 4,
     "metadata": {},
     "output_type": "execute_result"
    }
   ],
   "source": [
    "train.columns"
   ]
  },
  {
   "cell_type": "code",
   "execution_count": 5,
   "id": "fd97945a",
   "metadata": {
    "execution": {
     "iopub.execute_input": "2022-10-27T09:49:02.095800Z",
     "iopub.status.busy": "2022-10-27T09:49:02.095143Z",
     "iopub.status.idle": "2022-10-27T09:49:02.104946Z",
     "shell.execute_reply": "2022-10-27T09:49:02.104320Z"
    },
    "papermill": {
     "duration": 0.021006,
     "end_time": "2022-10-27T09:49:02.106495",
     "exception": false,
     "start_time": "2022-10-27T09:49:02.085489",
     "status": "completed"
    },
    "tags": []
   },
   "outputs": [
    {
     "data": {
      "text/plain": [
       "PassengerId      0\n",
       "Survived         0\n",
       "Pclass           0\n",
       "Name             0\n",
       "Sex              0\n",
       "Age            177\n",
       "SibSp            0\n",
       "Parch            0\n",
       "Ticket           0\n",
       "Fare             0\n",
       "Cabin          687\n",
       "Embarked         2\n",
       "dtype: int64"
      ]
     },
     "execution_count": 5,
     "metadata": {},
     "output_type": "execute_result"
    }
   ],
   "source": [
    "train.isnull().sum()"
   ]
  },
  {
   "cell_type": "code",
   "execution_count": 6,
   "id": "0e113937",
   "metadata": {
    "execution": {
     "iopub.execute_input": "2022-10-27T09:49:02.125195Z",
     "iopub.status.busy": "2022-10-27T09:49:02.124666Z",
     "iopub.status.idle": "2022-10-27T09:49:02.131913Z",
     "shell.execute_reply": "2022-10-27T09:49:02.130785Z"
    },
    "papermill": {
     "duration": 0.01848,
     "end_time": "2022-10-27T09:49:02.133597",
     "exception": false,
     "start_time": "2022-10-27T09:49:02.115117",
     "status": "completed"
    },
    "tags": []
   },
   "outputs": [
    {
     "data": {
      "text/plain": [
       "PassengerId      0\n",
       "Pclass           0\n",
       "Name             0\n",
       "Sex              0\n",
       "Age             86\n",
       "SibSp            0\n",
       "Parch            0\n",
       "Ticket           0\n",
       "Fare             1\n",
       "Cabin          327\n",
       "Embarked         0\n",
       "dtype: int64"
      ]
     },
     "execution_count": 6,
     "metadata": {},
     "output_type": "execute_result"
    }
   ],
   "source": [
    "test.isnull().sum()"
   ]
  },
  {
   "cell_type": "code",
   "execution_count": 7,
   "id": "38ef581f",
   "metadata": {
    "execution": {
     "iopub.execute_input": "2022-10-27T09:49:02.152004Z",
     "iopub.status.busy": "2022-10-27T09:49:02.151466Z",
     "iopub.status.idle": "2022-10-27T09:49:02.167443Z",
     "shell.execute_reply": "2022-10-27T09:49:02.166533Z"
    },
    "papermill": {
     "duration": 0.027396,
     "end_time": "2022-10-27T09:49:02.169416",
     "exception": false,
     "start_time": "2022-10-27T09:49:02.142020",
     "status": "completed"
    },
    "tags": []
   },
   "outputs": [
    {
     "name": "stdout",
     "output_type": "stream",
     "text": [
      "duplicated train data:  0\n",
      "duplicated test data:  0\n"
     ]
    }
   ],
   "source": [
    "print(\"duplicated train data: \", train.duplicated().sum())\n",
    "print(\"duplicated test data: \", test.duplicated().sum())"
   ]
  },
  {
   "cell_type": "code",
   "execution_count": 8,
   "id": "59c32521",
   "metadata": {
    "execution": {
     "iopub.execute_input": "2022-10-27T09:49:02.188468Z",
     "iopub.status.busy": "2022-10-27T09:49:02.188119Z",
     "iopub.status.idle": "2022-10-27T09:49:02.414201Z",
     "shell.execute_reply": "2022-10-27T09:49:02.413452Z"
    },
    "papermill": {
     "duration": 0.237799,
     "end_time": "2022-10-27T09:49:02.416059",
     "exception": false,
     "start_time": "2022-10-27T09:49:02.178260",
     "status": "completed"
    },
    "tags": []
   },
   "outputs": [
    {
     "data": {
      "text/plain": [
       "<AxesSubplot:xlabel='Embarked', ylabel='Survived'>"
      ]
     },
     "execution_count": 8,
     "metadata": {},
     "output_type": "execute_result"
    },
    {
     "data": {
      "image/png": "[encoded data removed]",
      "text/plain": [
       "<Figure size 432x288 with 1 Axes>"
      ]
     },
     "metadata": {
      "needs_background": "light"
     },
     "output_type": "display_data"
    }
   ],
   "source": [
    "sb.barplot(data = train, x = 'Embarked', y = 'Survived')"
   ]
  },
  {
   "cell_type": "code",
   "execution_count": 9,
   "id": "b35615f4",
   "metadata": {
    "execution": {
     "iopub.execute_input": "2022-10-27T09:49:02.438571Z",
     "iopub.status.busy": "2022-10-27T09:49:02.438273Z",
     "iopub.status.idle": "2022-10-27T09:49:02.445714Z",
     "shell.execute_reply": "2022-10-27T09:49:02.444786Z"
    },
    "papermill": {
     "duration": 0.019999,
     "end_time": "2022-10-27T09:49:02.447422",
     "exception": false,
     "start_time": "2022-10-27T09:49:02.427423",
     "status": "completed"
    },
    "tags": []
   },
   "outputs": [
    {
     "data": {
      "text/plain": [
       "<bound method NDFrame.head of 0                                Braund, Mr. Owen Harris\n",
       "1      Cumings, Mrs. John Bradley (Florence Briggs Th...\n",
       "2                                 Heikkinen, Miss. Laina\n",
       "3           Futrelle, Mrs. Jacques Heath (Lily May Peel)\n",
       "4                               Allen, Mr. William Henry\n",
       "                             ...                        \n",
       "886                                Montvila, Rev. Juozas\n",
       "887                         Graham, Miss. Margaret Edith\n",
       "888             Johnston, Miss. Catherine Helen \"Carrie\"\n",
       "889                                Behr, Mr. Karl Howell\n",
       "890                                  Dooley, Mr. Patrick\n",
       "Name: Name, Length: 891, dtype: object>"
      ]
     },
     "execution_count": 9,
     "metadata": {},
     "output_type": "execute_result"
    }
   ],
   "source": [
    "# name은 조금 특별함. 왜냐하면 Mr. Mis Miss 등으로 성별, 결혼 유무 등을 확인할 수 있기 때문\n",
    "# 따라서  name에서 이러한 것들을 추출할 필요가 있음\n",
    "train['Name'].head"
   ]
  },
  {
   "cell_type": "code",
   "execution_count": 10,
   "id": "c58fa3e3",
   "metadata": {
    "execution": {
     "iopub.execute_input": "2022-10-27T09:49:02.467298Z",
     "iopub.status.busy": "2022-10-27T09:49:02.466316Z",
     "iopub.status.idle": "2022-10-27T09:49:02.472238Z",
     "shell.execute_reply": "2022-10-27T09:49:02.471652Z"
    },
    "papermill": {
     "duration": 0.017523,
     "end_time": "2022-10-27T09:49:02.473857",
     "exception": false,
     "start_time": "2022-10-27T09:49:02.456334",
     "status": "completed"
    },
    "tags": []
   },
   "outputs": [],
   "source": [
    "train = train.drop(['Name','Ticket', 'Cabin'], axis = 'columns')"
   ]
  },
  {
   "cell_type": "code",
   "execution_count": 11,
   "id": "3782fc03",
   "metadata": {
    "execution": {
     "iopub.execute_input": "2022-10-27T09:49:02.493357Z",
     "iopub.status.busy": "2022-10-27T09:49:02.492455Z",
     "iopub.status.idle": "2022-10-27T09:49:02.496897Z",
     "shell.execute_reply": "2022-10-27T09:49:02.496365Z"
    },
    "papermill": {
     "duration": 0.015831,
     "end_time": "2022-10-27T09:49:02.498522",
     "exception": false,
     "start_time": "2022-10-27T09:49:02.482691",
     "status": "completed"
    },
    "tags": []
   },
   "outputs": [],
   "source": [
    "train_y = train.pop('Survived')"
   ]
  },
  {
   "cell_type": "code",
   "execution_count": 12,
   "id": "59dc9343",
   "metadata": {
    "execution": {
     "iopub.execute_input": "2022-10-27T09:49:02.518610Z",
     "iopub.status.busy": "2022-10-27T09:49:02.517616Z",
     "iopub.status.idle": "2022-10-27T09:49:02.523951Z",
     "shell.execute_reply": "2022-10-27T09:49:02.523098Z"
    },
    "papermill": {
     "duration": 0.018444,
     "end_time": "2022-10-27T09:49:02.526144",
     "exception": false,
     "start_time": "2022-10-27T09:49:02.507700",
     "status": "completed"
    },
    "tags": []
   },
   "outputs": [],
   "source": [
    "train = train.drop(['PassengerId'], axis = 'columns')"
   ]
  },
  {
   "cell_type": "code",
   "execution_count": 13,
   "id": "78b3bd2d",
   "metadata": {
    "execution": {
     "iopub.execute_input": "2022-10-27T09:49:02.546348Z",
     "iopub.status.busy": "2022-10-27T09:49:02.546000Z",
     "iopub.status.idle": "2022-10-27T09:49:02.551127Z",
     "shell.execute_reply": "2022-10-27T09:49:02.550128Z"
    },
    "papermill": {
     "duration": 0.017336,
     "end_time": "2022-10-27T09:49:02.552978",
     "exception": false,
     "start_time": "2022-10-27T09:49:02.535642",
     "status": "completed"
    },
    "tags": []
   },
   "outputs": [],
   "source": [
    "train['Embarked'] = train.Embarked.fillna('S')"
   ]
  },
  {
   "cell_type": "code",
   "execution_count": 14,
   "id": "9bfa0873",
   "metadata": {
    "execution": {
     "iopub.execute_input": "2022-10-27T09:49:02.572408Z",
     "iopub.status.busy": "2022-10-27T09:49:02.572053Z",
     "iopub.status.idle": "2022-10-27T09:49:02.585892Z",
     "shell.execute_reply": "2022-10-27T09:49:02.585065Z"
    },
    "papermill": {
     "duration": 0.025608,
     "end_time": "2022-10-27T09:49:02.587611",
     "exception": false,
     "start_time": "2022-10-27T09:49:02.562003",
     "status": "completed"
    },
    "tags": []
   },
   "outputs": [
    {
     "data": {
      "text/plain": [
       "<bound method NDFrame.head of      Pclass     Sex   Age  SibSp  Parch     Fare Embarked\n",
       "0         3    male  22.0      1      0   7.2500        S\n",
       "1         1  female  38.0      1      0  71.2833        C\n",
       "2         3  female  26.0      0      0   7.9250        S\n",
       "3         1  female  35.0      1      0  53.1000        S\n",
       "4         3    male  35.0      0      0   8.0500        S\n",
       "..      ...     ...   ...    ...    ...      ...      ...\n",
       "886       2    male  27.0      0      0  13.0000        S\n",
       "887       1  female  19.0      0      0  30.0000        S\n",
       "888       3  female   NaN      1      2  23.4500        S\n",
       "889       1    male  26.0      0      0  30.0000        C\n",
       "890       3    male  32.0      0      0   7.7500        Q\n",
       "\n",
       "[891 rows x 7 columns]>"
      ]
     },
     "execution_count": 14,
     "metadata": {},
     "output_type": "execute_result"
    }
   ],
   "source": [
    "train.head"
   ]
  },
  {
   "cell_type": "code",
   "execution_count": 15,
   "id": "19625470",
   "metadata": {
    "execution": {
     "iopub.execute_input": "2022-10-27T09:49:02.606801Z",
     "iopub.status.busy": "2022-10-27T09:49:02.606474Z",
     "iopub.status.idle": "2022-10-27T09:49:02.615868Z",
     "shell.execute_reply": "2022-10-27T09:49:02.615090Z"
    },
    "papermill": {
     "duration": 0.020937,
     "end_time": "2022-10-27T09:49:02.617476",
     "exception": false,
     "start_time": "2022-10-27T09:49:02.596539",
     "status": "completed"
    },
    "tags": []
   },
   "outputs": [],
   "source": [
    "train = pd.get_dummies(train, columns = ['Pclass'], prefix='Pclass')"
   ]
  },
  {
   "cell_type": "code",
   "execution_count": 16,
   "id": "b6e9938a",
   "metadata": {
    "execution": {
     "iopub.execute_input": "2022-10-27T09:49:02.636689Z",
     "iopub.status.busy": "2022-10-27T09:49:02.636381Z",
     "iopub.status.idle": "2022-10-27T09:49:02.644137Z",
     "shell.execute_reply": "2022-10-27T09:49:02.643337Z"
    },
    "papermill": {
     "duration": 0.01935,
     "end_time": "2022-10-27T09:49:02.645798",
     "exception": false,
     "start_time": "2022-10-27T09:49:02.626448",
     "status": "completed"
    },
    "tags": []
   },
   "outputs": [],
   "source": [
    "train = pd.get_dummies(train, columns = ['Sex'], prefix='Sex')"
   ]
  },
  {
   "cell_type": "code",
   "execution_count": 17,
   "id": "f4eab361",
   "metadata": {
    "execution": {
     "iopub.execute_input": "2022-10-27T09:49:02.664796Z",
     "iopub.status.busy": "2022-10-27T09:49:02.664520Z",
     "iopub.status.idle": "2022-10-27T09:49:02.671746Z",
     "shell.execute_reply": "2022-10-27T09:49:02.670960Z"
    },
    "papermill": {
     "duration": 0.018742,
     "end_time": "2022-10-27T09:49:02.673504",
     "exception": false,
     "start_time": "2022-10-27T09:49:02.654762",
     "status": "completed"
    },
    "tags": []
   },
   "outputs": [],
   "source": [
    "train = pd.get_dummies(train, columns = ['Embarked'], prefix='Embarked')"
   ]
  },
  {
   "cell_type": "code",
   "execution_count": 18,
   "id": "1808f409",
   "metadata": {
    "execution": {
     "iopub.execute_input": "2022-10-27T09:49:02.694524Z",
     "iopub.status.busy": "2022-10-27T09:49:02.694092Z",
     "iopub.status.idle": "2022-10-27T09:49:02.704122Z",
     "shell.execute_reply": "2022-10-27T09:49:02.703371Z"
    },
    "papermill": {
     "duration": 0.022643,
     "end_time": "2022-10-27T09:49:02.706132",
     "exception": false,
     "start_time": "2022-10-27T09:49:02.683489",
     "status": "completed"
    },
    "tags": []
   },
   "outputs": [
    {
     "data": {
      "text/plain": [
       "<bound method NDFrame.head of       Age  SibSp  Parch     Fare  Pclass_1  Pclass_2  Pclass_3  Sex_female  \\\n",
       "0    22.0      1      0   7.2500         0         0         1           0   \n",
       "1    38.0      1      0  71.2833         1         0         0           1   \n",
       "2    26.0      0      0   7.9250         0         0         1           1   \n",
       "3    35.0      1      0  53.1000         1         0         0           1   \n",
       "4    35.0      0      0   8.0500         0         0         1           0   \n",
       "..    ...    ...    ...      ...       ...       ...       ...         ...   \n",
       "886  27.0      0      0  13.0000         0         1         0           0   \n",
       "887  19.0      0      0  30.0000         1         0         0           1   \n",
       "888   NaN      1      2  23.4500         0         0         1           1   \n",
       "889  26.0      0      0  30.0000         1         0         0           0   \n",
       "890  32.0      0      0   7.7500         0         0         1           0   \n",
       "\n",
       "     Sex_male  Embarked_C  Embarked_Q  Embarked_S  \n",
       "0           1           0           0           1  \n",
       "1           0           1           0           0  \n",
       "2           0           0           0           1  \n",
       "3           0           0           0           1  \n",
       "4           1           0           0           1  \n",
       "..        ...         ...         ...         ...  \n",
       "886         1           0           0           1  \n",
       "887         0           0           0           1  \n",
       "888         0           0           0           1  \n",
       "889         1           1           0           0  \n",
       "890         1           0           1           0  \n",
       "\n",
       "[891 rows x 12 columns]>"
      ]
     },
     "execution_count": 18,
     "metadata": {},
     "output_type": "execute_result"
    }
   ],
   "source": [
    "train.head"
   ]
  },
  {
   "cell_type": "code",
   "execution_count": 19,
   "id": "9870da73",
   "metadata": {
    "execution": {
     "iopub.execute_input": "2022-10-27T09:49:02.725889Z",
     "iopub.status.busy": "2022-10-27T09:49:02.725636Z",
     "iopub.status.idle": "2022-10-27T09:49:02.730838Z",
     "shell.execute_reply": "2022-10-27T09:49:02.730071Z"
    },
    "papermill": {
     "duration": 0.01695,
     "end_time": "2022-10-27T09:49:02.732471",
     "exception": false,
     "start_time": "2022-10-27T09:49:02.715521",
     "status": "completed"
    },
    "tags": []
   },
   "outputs": [
    {
     "data": {
      "text/plain": [
       "Index(['Age', 'SibSp', 'Parch', 'Fare', 'Pclass_1', 'Pclass_2', 'Pclass_3',\n",
       "       'Sex_female', 'Sex_male', 'Embarked_C', 'Embarked_Q', 'Embarked_S'],\n",
       "      dtype='object')"
      ]
     },
     "execution_count": 19,
     "metadata": {},
     "output_type": "execute_result"
    }
   ],
   "source": [
    "train.columns"
   ]
  },
  {
   "cell_type": "code",
   "execution_count": 20,
   "id": "4aa23ef8",
   "metadata": {
    "execution": {
     "iopub.execute_input": "2022-10-27T09:49:02.752123Z",
     "iopub.status.busy": "2022-10-27T09:49:02.751854Z",
     "iopub.status.idle": "2022-10-27T09:49:02.759828Z",
     "shell.execute_reply": "2022-10-27T09:49:02.758680Z"
    },
    "papermill": {
     "duration": 0.020171,
     "end_time": "2022-10-27T09:49:02.761734",
     "exception": false,
     "start_time": "2022-10-27T09:49:02.741563",
     "status": "completed"
    },
    "tags": []
   },
   "outputs": [],
   "source": [
    "cols = ['SibSp', 'Parch', 'Fare', 'Pclass_1', 'Pclass_2', 'Pclass_3',\n",
    "       'Sex_female', 'Sex_male', 'Embarked_C', 'Embarked_Q', 'Embarked_S']\n",
    "\n",
    "train_with_na = train[train['Age'].isnull()]\n",
    "train_without_na = train[train['Age'].isnull() == False]"
   ]
  },
  {
   "cell_type": "code",
   "execution_count": 21,
   "id": "5b2d71b5",
   "metadata": {
    "execution": {
     "iopub.execute_input": "2022-10-27T09:49:02.781898Z",
     "iopub.status.busy": "2022-10-27T09:49:02.781219Z",
     "iopub.status.idle": "2022-10-27T09:49:03.091221Z",
     "shell.execute_reply": "2022-10-27T09:49:03.090215Z"
    },
    "papermill": {
     "duration": 0.322608,
     "end_time": "2022-10-27T09:49:03.093377",
     "exception": false,
     "start_time": "2022-10-27T09:49:02.770769",
     "status": "completed"
    },
    "tags": []
   },
   "outputs": [
    {
     "data": {
      "text/plain": [
       "RandomForestRegressor(max_depth=5)"
      ]
     },
     "execution_count": 21,
     "metadata": {},
     "output_type": "execute_result"
    }
   ],
   "source": [
    "from sklearn.ensemble import RandomForestRegressor\n",
    "\n",
    "rfr = RandomForestRegressor(n_estimators = 100, max_depth = 5)\n",
    "\n",
    "rfr.fit(train_without_na[cols], train_without_na['Age'])"
   ]
  },
  {
   "cell_type": "code",
   "execution_count": 22,
   "id": "35d7db55",
   "metadata": {
    "execution": {
     "iopub.execute_input": "2022-10-27T09:49:03.114544Z",
     "iopub.status.busy": "2022-10-27T09:49:03.114207Z",
     "iopub.status.idle": "2022-10-27T09:49:03.133043Z",
     "shell.execute_reply": "2022-10-27T09:49:03.131941Z"
    },
    "papermill": {
     "duration": 0.031988,
     "end_time": "2022-10-27T09:49:03.135266",
     "exception": false,
     "start_time": "2022-10-27T09:49:03.103278",
     "status": "completed"
    },
    "tags": []
   },
   "outputs": [
    {
     "name": "stderr",
     "output_type": "stream",
     "text": [
      "/opt/conda/lib/python3.7/site-packages/ipykernel_launcher.py:1: SettingWithCopyWarning: \n",
      "A value is trying to be set on a copy of a slice from a DataFrame.\n",
      "Try using .loc[row_indexer,col_indexer] = value instead\n",
      "\n",
      "See the caveats in the documentation: https://pandas.pydata.org/pandas-docs/stable/user_guide/indexing.html#returning-a-view-versus-a-copy\n",
      "  \"\"\"Entry point for launching an IPython kernel.\n"
     ]
    }
   ],
   "source": [
    "train_with_na['Age'] = rfr.predict(train_with_na[cols]).astype('int32')"
   ]
  },
  {
   "cell_type": "code",
   "execution_count": 23,
   "id": "ad803d2c",
   "metadata": {
    "execution": {
     "iopub.execute_input": "2022-10-27T09:49:03.155664Z",
     "iopub.status.busy": "2022-10-27T09:49:03.155366Z",
     "iopub.status.idle": "2022-10-27T09:49:03.160696Z",
     "shell.execute_reply": "2022-10-27T09:49:03.159751Z"
    },
    "papermill": {
     "duration": 0.017289,
     "end_time": "2022-10-27T09:49:03.162360",
     "exception": false,
     "start_time": "2022-10-27T09:49:03.145071",
     "status": "completed"
    },
    "tags": []
   },
   "outputs": [],
   "source": [
    "train = train_without_na.append(train_with_na)"
   ]
  },
  {
   "cell_type": "code",
   "execution_count": 24,
   "id": "36f7102e",
   "metadata": {
    "execution": {
     "iopub.execute_input": "2022-10-27T09:49:03.183979Z",
     "iopub.status.busy": "2022-10-27T09:49:03.183689Z",
     "iopub.status.idle": "2022-10-27T09:49:03.194004Z",
     "shell.execute_reply": "2022-10-27T09:49:03.193184Z"
    },
    "papermill": {
     "duration": 0.023367,
     "end_time": "2022-10-27T09:49:03.195602",
     "exception": false,
     "start_time": "2022-10-27T09:49:03.172235",
     "status": "completed"
    },
    "tags": []
   },
   "outputs": [
    {
     "data": {
      "text/plain": [
       "<bound method NDFrame.head of       Age  SibSp  Parch     Fare  Pclass_1  Pclass_2  Pclass_3  Sex_female  \\\n",
       "0    22.0      1      0   7.2500         0         0         1           0   \n",
       "1    38.0      1      0  71.2833         1         0         0           1   \n",
       "2    26.0      0      0   7.9250         0         0         1           1   \n",
       "3    35.0      1      0  53.1000         1         0         0           1   \n",
       "4    35.0      0      0   8.0500         0         0         1           0   \n",
       "..    ...    ...    ...      ...       ...       ...       ...         ...   \n",
       "859  28.0      0      0   7.2292         0         0         1           0   \n",
       "863  10.0      8      2  69.5500         0         0         1           1   \n",
       "868  27.0      0      0   9.5000         0         0         1           0   \n",
       "878  28.0      0      0   7.8958         0         0         1           0   \n",
       "888  20.0      1      2  23.4500         0         0         1           1   \n",
       "\n",
       "     Sex_male  Embarked_C  Embarked_Q  Embarked_S  \n",
       "0           1           0           0           1  \n",
       "1           0           1           0           0  \n",
       "2           0           0           0           1  \n",
       "3           0           0           0           1  \n",
       "4           1           0           0           1  \n",
       "..        ...         ...         ...         ...  \n",
       "859         1           1           0           0  \n",
       "863         0           0           0           1  \n",
       "868         1           0           0           1  \n",
       "878         1           0           0           1  \n",
       "888         0           0           0           1  \n",
       "\n",
       "[891 rows x 12 columns]>"
      ]
     },
     "execution_count": 24,
     "metadata": {},
     "output_type": "execute_result"
    }
   ],
   "source": [
    "train.head"
   ]
  },
  {
   "cell_type": "code",
   "execution_count": 25,
   "id": "637b3cb3",
   "metadata": {
    "execution": {
     "iopub.execute_input": "2022-10-27T09:49:03.216401Z",
     "iopub.status.busy": "2022-10-27T09:49:03.216072Z",
     "iopub.status.idle": "2022-10-27T09:49:03.231454Z",
     "shell.execute_reply": "2022-10-27T09:49:03.229935Z"
    },
    "papermill": {
     "duration": 0.027954,
     "end_time": "2022-10-27T09:49:03.233314",
     "exception": false,
     "start_time": "2022-10-27T09:49:03.205360",
     "status": "completed"
    },
    "tags": []
   },
   "outputs": [
    {
     "name": "stdout",
     "output_type": "stream",
     "text": [
      "<class 'pandas.core.frame.DataFrame'>\n",
      "Int64Index: 891 entries, 0 to 888\n",
      "Data columns (total 12 columns):\n",
      " #   Column      Non-Null Count  Dtype  \n",
      "---  ------      --------------  -----  \n",
      " 0   Age         891 non-null    float64\n",
      " 1   SibSp       891 non-null    int64  \n",
      " 2   Parch       891 non-null    int64  \n",
      " 3   Fare        891 non-null    float64\n",
      " 4   Pclass_1    891 non-null    uint8  \n",
      " 5   Pclass_2    891 non-null    uint8  \n",
      " 6   Pclass_3    891 non-null    uint8  \n",
      " 7   Sex_female  891 non-null    uint8  \n",
      " 8   Sex_male    891 non-null    uint8  \n",
      " 9   Embarked_C  891 non-null    uint8  \n",
      " 10  Embarked_Q  891 non-null    uint8  \n",
      " 11  Embarked_S  891 non-null    uint8  \n",
      "dtypes: float64(2), int64(2), uint8(8)\n",
      "memory usage: 41.8 KB\n"
     ]
    }
   ],
   "source": [
    "train.info()"
   ]
  },
  {
   "cell_type": "code",
   "execution_count": 26,
   "id": "c5ea16b1",
   "metadata": {
    "execution": {
     "iopub.execute_input": "2022-10-27T09:49:03.254544Z",
     "iopub.status.busy": "2022-10-27T09:49:03.254176Z",
     "iopub.status.idle": "2022-10-27T09:49:03.269138Z",
     "shell.execute_reply": "2022-10-27T09:49:03.268455Z"
    },
    "papermill": {
     "duration": 0.028407,
     "end_time": "2022-10-27T09:49:03.271440",
     "exception": false,
     "start_time": "2022-10-27T09:49:03.243033",
     "status": "completed"
    },
    "tags": []
   },
   "outputs": [],
   "source": [
    "test = test.drop(['Name','Ticket', 'Cabin'], axis = 'columns')\n",
    "test = test.drop(['PassengerId'], axis = 'columns')\n",
    "\n",
    "test = pd.get_dummies(test, columns = ['Pclass'], prefix='Pclass')\n",
    "test = pd.get_dummies(test, columns = ['Sex'], prefix='Sex')\n",
    "test = pd.get_dummies(test, columns = ['Embarked'], prefix='Embarked')"
   ]
  },
  {
   "cell_type": "code",
   "execution_count": 27,
   "id": "6766f344",
   "metadata": {
    "execution": {
     "iopub.execute_input": "2022-10-27T09:49:03.293287Z",
     "iopub.status.busy": "2022-10-27T09:49:03.292723Z",
     "iopub.status.idle": "2022-10-27T09:49:03.299738Z",
     "shell.execute_reply": "2022-10-27T09:49:03.298457Z"
    },
    "papermill": {
     "duration": 0.020075,
     "end_time": "2022-10-27T09:49:03.301624",
     "exception": false,
     "start_time": "2022-10-27T09:49:03.281549",
     "status": "completed"
    },
    "tags": []
   },
   "outputs": [],
   "source": [
    "cols = ['SibSp', 'Parch', 'Pclass_1', 'Pclass_2', 'Pclass_3',\n",
    "       'Sex_female', 'Sex_male', 'Embarked_C', 'Embarked_Q', 'Embarked_S']\n",
    "\n",
    "test_with_na_fare = test[test['Fare'].isnull()]\n",
    "test_without_na_fare = test[test['Fare'].isnull() == False]"
   ]
  },
  {
   "cell_type": "code",
   "execution_count": 28,
   "id": "c998cea6",
   "metadata": {
    "execution": {
     "iopub.execute_input": "2022-10-27T09:49:03.323026Z",
     "iopub.status.busy": "2022-10-27T09:49:03.322483Z",
     "iopub.status.idle": "2022-10-27T09:49:03.434210Z",
     "shell.execute_reply": "2022-10-27T09:49:03.433450Z"
    },
    "papermill": {
     "duration": 0.124628,
     "end_time": "2022-10-27T09:49:03.436118",
     "exception": false,
     "start_time": "2022-10-27T09:49:03.311490",
     "status": "completed"
    },
    "tags": []
   },
   "outputs": [
    {
     "data": {
      "text/plain": [
       "RandomForestRegressor(max_depth=5)"
      ]
     },
     "execution_count": 28,
     "metadata": {},
     "output_type": "execute_result"
    }
   ],
   "source": [
    "rfr2 = RandomForestRegressor(n_estimators=100, max_depth=5)\n",
    "\n",
    "rfr2.fit(test_without_na_fare[cols], test_without_na_fare['Fare'])"
   ]
  },
  {
   "cell_type": "code",
   "execution_count": 29,
   "id": "520c1163",
   "metadata": {
    "execution": {
     "iopub.execute_input": "2022-10-27T09:49:03.458085Z",
     "iopub.status.busy": "2022-10-27T09:49:03.457787Z",
     "iopub.status.idle": "2022-10-27T09:49:03.477584Z",
     "shell.execute_reply": "2022-10-27T09:49:03.476236Z"
    },
    "papermill": {
     "duration": 0.03372,
     "end_time": "2022-10-27T09:49:03.480070",
     "exception": false,
     "start_time": "2022-10-27T09:49:03.446350",
     "status": "completed"
    },
    "tags": []
   },
   "outputs": [
    {
     "name": "stderr",
     "output_type": "stream",
     "text": [
      "/opt/conda/lib/python3.7/site-packages/ipykernel_launcher.py:1: SettingWithCopyWarning: \n",
      "A value is trying to be set on a copy of a slice from a DataFrame.\n",
      "Try using .loc[row_indexer,col_indexer] = value instead\n",
      "\n",
      "See the caveats in the documentation: https://pandas.pydata.org/pandas-docs/stable/user_guide/indexing.html#returning-a-view-versus-a-copy\n",
      "  \"\"\"Entry point for launching an IPython kernel.\n"
     ]
    }
   ],
   "source": [
    "test_with_na_fare['Fare'] = rfr2.predict(test_with_na_fare[cols])"
   ]
  },
  {
   "cell_type": "code",
   "execution_count": 30,
   "id": "5f186d62",
   "metadata": {
    "execution": {
     "iopub.execute_input": "2022-10-27T09:49:03.502208Z",
     "iopub.status.busy": "2022-10-27T09:49:03.501403Z",
     "iopub.status.idle": "2022-10-27T09:49:03.513759Z",
     "shell.execute_reply": "2022-10-27T09:49:03.512755Z"
    },
    "papermill": {
     "duration": 0.024906,
     "end_time": "2022-10-27T09:49:03.515502",
     "exception": false,
     "start_time": "2022-10-27T09:49:03.490596",
     "status": "completed"
    },
    "tags": []
   },
   "outputs": [
    {
     "data": {
      "text/plain": [
       "<bound method NDFrame.head of       Age  SibSp  Parch        Fare  Pclass_1  Pclass_2  Pclass_3  Sex_female  \\\n",
       "0    34.5      0      0    7.829200         0         0         1           0   \n",
       "1    47.0      1      0    7.000000         0         0         1           1   \n",
       "2    62.0      0      0    9.687500         0         1         0           0   \n",
       "3    27.0      0      0    8.662500         0         0         1           0   \n",
       "4    22.0      1      1   12.287500         0         0         1           1   \n",
       "..    ...    ...    ...         ...       ...       ...       ...         ...   \n",
       "414  39.0      0      0  108.900000         1         0         0           1   \n",
       "415  38.5      0      0    7.250000         0         0         1           0   \n",
       "416   NaN      0      0    8.050000         0         0         1           0   \n",
       "417   NaN      1      1   22.358300         0         0         1           0   \n",
       "152  60.5      0      0    9.073294         0         0         1           0   \n",
       "\n",
       "     Sex_male  Embarked_C  Embarked_Q  Embarked_S  \n",
       "0           1           0           1           0  \n",
       "1           0           0           0           1  \n",
       "2           1           0           1           0  \n",
       "3           1           0           0           1  \n",
       "4           0           0           0           1  \n",
       "..        ...         ...         ...         ...  \n",
       "414         0           1           0           0  \n",
       "415         1           0           0           1  \n",
       "416         1           0           0           1  \n",
       "417         1           1           0           0  \n",
       "152         1           0           0           1  \n",
       "\n",
       "[418 rows x 12 columns]>"
      ]
     },
     "execution_count": 30,
     "metadata": {},
     "output_type": "execute_result"
    }
   ],
   "source": [
    "test = test_without_na_fare.append(test_with_na_fare)\n",
    "test.head"
   ]
  },
  {
   "cell_type": "code",
   "execution_count": 31,
   "id": "a936b218",
   "metadata": {
    "execution": {
     "iopub.execute_input": "2022-10-27T09:49:03.537347Z",
     "iopub.status.busy": "2022-10-27T09:49:03.537002Z",
     "iopub.status.idle": "2022-10-27T09:49:03.673824Z",
     "shell.execute_reply": "2022-10-27T09:49:03.672337Z"
    },
    "papermill": {
     "duration": 0.150028,
     "end_time": "2022-10-27T09:49:03.675814",
     "exception": false,
     "start_time": "2022-10-27T09:49:03.525786",
     "status": "completed"
    },
    "tags": []
   },
   "outputs": [
    {
     "name": "stderr",
     "output_type": "stream",
     "text": [
      "/opt/conda/lib/python3.7/site-packages/ipykernel_launcher.py:11: SettingWithCopyWarning: \n",
      "A value is trying to be set on a copy of a slice from a DataFrame.\n",
      "Try using .loc[row_indexer,col_indexer] = value instead\n",
      "\n",
      "See the caveats in the documentation: https://pandas.pydata.org/pandas-docs/stable/user_guide/indexing.html#returning-a-view-versus-a-copy\n",
      "  # This is added back by InteractiveShellApp.init_path()\n"
     ]
    }
   ],
   "source": [
    "cols = ['SibSp','Fare', 'Parch', 'Pclass_1', 'Pclass_2', 'Pclass_3',\n",
    "       'Sex_female', 'Sex_male', 'Embarked_C', 'Embarked_Q', 'Embarked_S']\n",
    "\n",
    "test_with_na_age2 = test[test['Age'].isnull()]\n",
    "test_without_na_age2 = test[test['Age'].isnull() == False]\n",
    "\n",
    "rfr3 = RandomForestRegressor(n_estimators=100, max_depth=5)\n",
    "\n",
    "rfr3.fit(test_without_na_age2[cols], test_without_na_age2['Age'])\n",
    "\n",
    "test_with_na_age2['Age'] = rfr3.predict(test_with_na_age2[cols])"
   ]
  },
  {
   "cell_type": "code",
   "execution_count": 32,
   "id": "db5cb298",
   "metadata": {
    "execution": {
     "iopub.execute_input": "2022-10-27T09:49:03.696850Z",
     "iopub.status.busy": "2022-10-27T09:49:03.696538Z",
     "iopub.status.idle": "2022-10-27T09:49:03.701775Z",
     "shell.execute_reply": "2022-10-27T09:49:03.700651Z"
    },
    "papermill": {
     "duration": 0.017603,
     "end_time": "2022-10-27T09:49:03.703455",
     "exception": false,
     "start_time": "2022-10-27T09:49:03.685852",
     "status": "completed"
    },
    "tags": []
   },
   "outputs": [],
   "source": [
    "test = test_without_na_age2.append(test_with_na_age2)"
   ]
  },
  {
   "cell_type": "code",
   "execution_count": 33,
   "id": "b58c91b3",
   "metadata": {
    "execution": {
     "iopub.execute_input": "2022-10-27T09:49:03.725209Z",
     "iopub.status.busy": "2022-10-27T09:49:03.724136Z",
     "iopub.status.idle": "2022-10-27T09:49:03.735076Z",
     "shell.execute_reply": "2022-10-27T09:49:03.734272Z"
    },
    "papermill": {
     "duration": 0.023617,
     "end_time": "2022-10-27T09:49:03.736844",
     "exception": false,
     "start_time": "2022-10-27T09:49:03.713227",
     "status": "completed"
    },
    "tags": []
   },
   "outputs": [
    {
     "name": "stdout",
     "output_type": "stream",
     "text": [
      "<class 'pandas.core.frame.DataFrame'>\n",
      "Int64Index: 891 entries, 0 to 888\n",
      "Data columns (total 12 columns):\n",
      " #   Column      Non-Null Count  Dtype  \n",
      "---  ------      --------------  -----  \n",
      " 0   Age         891 non-null    float64\n",
      " 1   SibSp       891 non-null    int64  \n",
      " 2   Parch       891 non-null    int64  \n",
      " 3   Fare        891 non-null    float64\n",
      " 4   Pclass_1    891 non-null    uint8  \n",
      " 5   Pclass_2    891 non-null    uint8  \n",
      " 6   Pclass_3    891 non-null    uint8  \n",
      " 7   Sex_female  891 non-null    uint8  \n",
      " 8   Sex_male    891 non-null    uint8  \n",
      " 9   Embarked_C  891 non-null    uint8  \n",
      " 10  Embarked_Q  891 non-null    uint8  \n",
      " 11  Embarked_S  891 non-null    uint8  \n",
      "dtypes: float64(2), int64(2), uint8(8)\n",
      "memory usage: 41.8 KB\n"
     ]
    }
   ],
   "source": [
    "train.info()"
   ]
  },
  {
   "cell_type": "code",
   "execution_count": 34,
   "id": "15c14ffe",
   "metadata": {
    "execution": {
     "iopub.execute_input": "2022-10-27T09:49:03.758439Z",
     "iopub.status.busy": "2022-10-27T09:49:03.757581Z",
     "iopub.status.idle": "2022-10-27T09:49:03.768216Z",
     "shell.execute_reply": "2022-10-27T09:49:03.767138Z"
    },
    "papermill": {
     "duration": 0.023407,
     "end_time": "2022-10-27T09:49:03.770202",
     "exception": false,
     "start_time": "2022-10-27T09:49:03.746795",
     "status": "completed"
    },
    "tags": []
   },
   "outputs": [
    {
     "name": "stdout",
     "output_type": "stream",
     "text": [
      "<class 'pandas.core.frame.DataFrame'>\n",
      "Int64Index: 418 entries, 0 to 417\n",
      "Data columns (total 12 columns):\n",
      " #   Column      Non-Null Count  Dtype  \n",
      "---  ------      --------------  -----  \n",
      " 0   Age         418 non-null    float64\n",
      " 1   SibSp       418 non-null    int64  \n",
      " 2   Parch       418 non-null    int64  \n",
      " 3   Fare        418 non-null    float64\n",
      " 4   Pclass_1    418 non-null    uint8  \n",
      " 5   Pclass_2    418 non-null    uint8  \n",
      " 6   Pclass_3    418 non-null    uint8  \n",
      " 7   Sex_female  418 non-null    uint8  \n",
      " 8   Sex_male    418 non-null    uint8  \n",
      " 9   Embarked_C  418 non-null    uint8  \n",
      " 10  Embarked_Q  418 non-null    uint8  \n",
      " 11  Embarked_S  418 non-null    uint8  \n",
      "dtypes: float64(2), int64(2), uint8(8)\n",
      "memory usage: 19.6 KB\n"
     ]
    }
   ],
   "source": [
    "test.info()"
   ]
  },
  {
   "cell_type": "code",
   "execution_count": 35,
   "id": "e100c5fd",
   "metadata": {
    "execution": {
     "iopub.execute_input": "2022-10-27T09:49:03.791302Z",
     "iopub.status.busy": "2022-10-27T09:49:03.790959Z",
     "iopub.status.idle": "2022-10-27T09:49:03.803336Z",
     "shell.execute_reply": "2022-10-27T09:49:03.802411Z"
    },
    "papermill": {
     "duration": 0.025139,
     "end_time": "2022-10-27T09:49:03.805154",
     "exception": false,
     "start_time": "2022-10-27T09:49:03.780015",
     "status": "completed"
    },
    "tags": []
   },
   "outputs": [],
   "source": [
    "rs = RobustScaler()\n",
    "train_x = rs.fit_transform(train)\n",
    "test_x = rs.transform(test)\n"
   ]
  },
  {
   "cell_type": "code",
   "execution_count": 36,
   "id": "07305c7f",
   "metadata": {
    "execution": {
     "iopub.execute_input": "2022-10-27T09:49:03.827426Z",
     "iopub.status.busy": "2022-10-27T09:49:03.826706Z",
     "iopub.status.idle": "2022-10-27T09:49:26.268217Z",
     "shell.execute_reply": "2022-10-27T09:49:26.266989Z"
    },
    "papermill": {
     "duration": 22.4548,
     "end_time": "2022-10-27T09:49:26.270232",
     "exception": false,
     "start_time": "2022-10-27T09:49:03.815432",
     "status": "completed"
    },
    "tags": []
   },
   "outputs": [
    {
     "data": {
      "text/plain": [
       "GridSearchCV(estimator=GradientBoostingClassifier(),\n",
       "             param_grid={'max_depth': [3, 5, 10],\n",
       "                         'n_estimators': [50, 100, 500]},\n",
       "             scoring='accuracy')"
      ]
     },
     "execution_count": 36,
     "metadata": {},
     "output_type": "execute_result"
    }
   ],
   "source": [
    "from sklearn.ensemble import GradientBoostingClassifier\n",
    "gbc = GradientBoostingClassifier()\n",
    "\n",
    "params = {\n",
    "    'max_depth' : [3, 5, 10],\n",
    "    'n_estimators' : [50, 100, 500],\n",
    "    \n",
    "}\n",
    "\n",
    "from sklearn.model_selection import GridSearchCV\n",
    "\n",
    "gscv = GridSearchCV(gbc, param_grid = params, scoring='accuracy')\n",
    "\n",
    "gscv.fit(train_x, train_y)"
   ]
  },
  {
   "cell_type": "code",
   "execution_count": 37,
   "id": "fa616e5d",
   "metadata": {
    "execution": {
     "iopub.execute_input": "2022-10-27T09:49:26.293038Z",
     "iopub.status.busy": "2022-10-27T09:49:26.292668Z",
     "iopub.status.idle": "2022-10-27T09:49:26.299668Z",
     "shell.execute_reply": "2022-10-27T09:49:26.298424Z"
    },
    "papermill": {
     "duration": 0.02089,
     "end_time": "2022-10-27T09:49:26.301967",
     "exception": false,
     "start_time": "2022-10-27T09:49:26.281077",
     "status": "completed"
    },
    "tags": []
   },
   "outputs": [
    {
     "data": {
      "text/plain": [
       "{'max_depth': 3, 'n_estimators': 50}"
      ]
     },
     "execution_count": 37,
     "metadata": {},
     "output_type": "execute_result"
    }
   ],
   "source": [
    "gscv.best_params_"
   ]
  },
  {
   "cell_type": "code",
   "execution_count": 38,
   "id": "5b8f95c3",
   "metadata": {
    "execution": {
     "iopub.execute_input": "2022-10-27T09:49:26.325612Z",
     "iopub.status.busy": "2022-10-27T09:49:26.325259Z",
     "iopub.status.idle": "2022-10-27T09:49:26.382603Z",
     "shell.execute_reply": "2022-10-27T09:49:26.381638Z"
    },
    "papermill": {
     "duration": 0.071026,
     "end_time": "2022-10-27T09:49:26.384403",
     "exception": false,
     "start_time": "2022-10-27T09:49:26.313377",
     "status": "completed"
    },
    "tags": []
   },
   "outputs": [
    {
     "data": {
      "text/plain": [
       "GradientBoostingClassifier(n_estimators=50)"
      ]
     },
     "execution_count": 38,
     "metadata": {},
     "output_type": "execute_result"
    }
   ],
   "source": [
    "model = GradientBoostingClassifier(max_depth=3, n_estimators=50)\n",
    "\n",
    "model.fit(train_x, train_y)"
   ]
  },
  {
   "cell_type": "code",
   "execution_count": 39,
   "id": "29276845",
   "metadata": {
    "execution": {
     "iopub.execute_input": "2022-10-27T09:49:26.406713Z",
     "iopub.status.busy": "2022-10-27T09:49:26.406311Z",
     "iopub.status.idle": "2022-10-27T09:49:26.412450Z",
     "shell.execute_reply": "2022-10-27T09:49:26.411601Z"
    },
    "papermill": {
     "duration": 0.0194,
     "end_time": "2022-10-27T09:49:26.414210",
     "exception": false,
     "start_time": "2022-10-27T09:49:26.394810",
     "status": "completed"
    },
    "tags": []
   },
   "outputs": [],
   "source": [
    "y = model.predict(test_x)\n",
    "sub['Survived'] = y"
   ]
  },
  {
   "cell_type": "code",
   "execution_count": 40,
   "id": "35437d86",
   "metadata": {
    "execution": {
     "iopub.execute_input": "2022-10-27T09:49:26.435894Z",
     "iopub.status.busy": "2022-10-27T09:49:26.435556Z",
     "iopub.status.idle": "2022-10-27T09:49:26.443798Z",
     "shell.execute_reply": "2022-10-27T09:49:26.442961Z"
    },
    "papermill": {
     "duration": 0.021258,
     "end_time": "2022-10-27T09:49:26.445569",
     "exception": false,
     "start_time": "2022-10-27T09:49:26.424311",
     "status": "completed"
    },
    "tags": []
   },
   "outputs": [
    {
     "data": {
      "text/plain": [
       "<bound method NDFrame.head of      PassengerId  Survived\n",
       "0            892         0\n",
       "1            893         0\n",
       "2            894         0\n",
       "3            895         0\n",
       "4            896         0\n",
       "..           ...       ...\n",
       "413         1305         1\n",
       "414         1306         1\n",
       "415         1307         0\n",
       "416         1308         0\n",
       "417         1309         0\n",
       "\n",
       "[418 rows x 2 columns]>"
      ]
     },
     "execution_count": 40,
     "metadata": {},
     "output_type": "execute_result"
    }
   ],
   "source": [
    "sub.head"
   ]
  },
  {
   "cell_type": "code",
   "execution_count": 41,
   "id": "dd977247",
   "metadata": {
    "execution": {
     "iopub.execute_input": "2022-10-27T09:49:26.467681Z",
     "iopub.status.busy": "2022-10-27T09:49:26.467320Z",
     "iopub.status.idle": "2022-10-27T09:49:26.474009Z",
     "shell.execute_reply": "2022-10-27T09:49:26.473436Z"
    },
    "papermill": {
     "duration": 0.01977,
     "end_time": "2022-10-27T09:49:26.475612",
     "exception": false,
     "start_time": "2022-10-27T09:49:26.455842",
     "status": "completed"
    },
    "tags": []
   },
   "outputs": [],
   "source": [
    "sub.to_csv('/kaggle/working/submission.csv')"
   ]
  }
 ],
 "metadata": {
  "kernelspec": {
   "display_name": "Python 3",
   "language": "python",
   "name": "python3"
  },
  "language_info": {
   "codemirror_mode": {
    "name": "ipython",
    "version": 3
   },
   "file_extension": ".py",
   "mimetype": "text/x-python",
   "name": "python",
   "nbconvert_exporter": "python",
   "pygments_lexer": "ipython3",
   "version": "3.7.12"
  },
  "papermill": {
   "default_parameters": {},
   "duration": 40.959662,
   "end_time": "2022-10-27T09:49:29.517280",
   "environment_variables": {},
   "exception": null,
   "input_path": "__notebook__.ipynb",
   "output_path": "__notebook__.ipynb",
   "parameters": {},
   "start_time": "2022-10-27T09:48:48.557618",
   "version": "2.3.4"
  }
 },
 "nbformat": 4,
 "nbformat_minor": 5
}
